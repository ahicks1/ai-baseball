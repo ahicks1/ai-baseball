{
 "cells": [
  {
   "cell_type": "markdown",
   "metadata": {},
   "source": [
    "# Fantasy Baseball Analysis\n",
    "\n",
    "This notebook demonstrates how to use the Fantasy Baseball Draft Tool for data analysis and player projections."
   ]
  },
  {
   "cell_type": "markdown",
   "metadata": {},
   "source": [
    "## Setup\n",
    "\n",
    "First, let's import the necessary modules and set up our environment."
   ]
  },
  {
   "cell_type": "code",
   "execution_count": 17,
   "metadata": {},
   "outputs": [],
   "source": [
    "import os\n",
    "import sys\n",
    "import pandas as pd\n",
    "import numpy as np\n",
    "import matplotlib.pyplot as plt\n",
    "import seaborn as sns\n",
    "\n",
    "# Add the parent directory to the path so we can import our modules\n",
    "sys.path.insert(0, os.path.abspath('..'))\n",
    "\n",
    "from src.data_processing.process_retrosheet import process_multiple_seasons\n",
    "from src.analysis.stats_analyzer import StatsAnalyzer\n",
    "from src.forecasting.forecaster import PlayerForecaster\n",
    "from src.ranking.player_ranker import PlayerRanker\n",
    "\n",
    "# Set up plotting\n",
    "%matplotlib inline\n",
    "plt.style.use('seaborn-v0_8-whitegrid')\n",
    "plt.rcParams['figure.figsize'] = (12, 8)\n",
    "plt.rcParams['font.size'] = 12"
   ]
  },
  {
   "cell_type": "markdown",
   "metadata": {},
   "source": [
    "## 1. Data Processing\n",
    "\n",
    "First, we need to process the Retrosheet data into player statistics. This step assumes you have already downloaded the Retrosheet data to the `data/raw/` directory.\n",
    "\n",
    "**Note:** This step can take a while to run, depending on the amount of data."
   ]
  },
  {
   "cell_type": "code",
   "execution_count": 18,
   "metadata": {},
   "outputs": [
    {
     "name": "stderr",
     "output_type": "stream",
     "text": [
      "Processing seasons: 100%|██████████| 10/10 [00:00<00:00, 678.98it/s]"
     ]
    },
    {
     "name": "stdout",
     "output_type": "stream",
     "text": [
      "Processing data for 2014 season\n",
      "Calculating batting stats for all players\n",
      "Calculating pitching stats for all players\n",
      "Saved batting stats to data/processed/batting_stats_2014.csv\n",
      "Saved pitching stats to data/processed/pitching_stats_2014.csv\n",
      "Processing data for 2015 season\n",
      "Calculating batting stats for all players\n",
      "Calculating pitching stats for all players\n",
      "Saved batting stats to data/processed/batting_stats_2015.csv\n",
      "Saved pitching stats to data/processed/pitching_stats_2015.csv\n",
      "Processing data for 2016 season\n",
      "Calculating batting stats for all players\n",
      "Calculating pitching stats for all players\n",
      "Saved batting stats to data/processed/batting_stats_2016.csv\n",
      "Saved pitching stats to data/processed/pitching_stats_2016.csv\n",
      "Processing data for 2017 season\n",
      "Calculating batting stats for all players\n",
      "Calculating pitching stats for all players\n",
      "Saved batting stats to data/processed/batting_stats_2017.csv\n",
      "Saved pitching stats to data/processed/pitching_stats_2017.csv\n",
      "Processing data for 2018 season\n",
      "Calculating batting stats for all players\n",
      "Calculating pitching stats for all players\n",
      "Saved batting stats to data/processed/batting_stats_2018.csv\n",
      "Saved pitching stats to data/processed/pitching_stats_2018.csv\n",
      "Processing data for 2019 season\n",
      "Calculating batting stats for all players\n",
      "Calculating pitching stats for all players\n",
      "Saved batting stats to data/processed/batting_stats_2019.csv\n",
      "Saved pitching stats to data/processed/pitching_stats_2019.csv\n",
      "Processing data for 2020 season\n",
      "Calculating batting stats for all players\n",
      "Calculating pitching stats for all players\n",
      "Saved batting stats to data/processed/batting_stats_2020.csv\n",
      "Saved pitching stats to data/processed/pitching_stats_2020.csv\n",
      "Processing data for 2021 season\n",
      "Calculating batting stats for all players\n",
      "Calculating pitching stats for all players\n",
      "Saved batting stats to data/processed/batting_stats_2021.csv\n",
      "Saved pitching stats to data/processed/pitching_stats_2021.csv\n",
      "Processing data for 2022 season\n",
      "Calculating batting stats for all players\n",
      "Calculating pitching stats for all players\n",
      "Saved batting stats to data/processed/batting_stats_2022.csv\n",
      "Saved pitching stats to data/processed/pitching_stats_2022.csv\n",
      "Processing data for 2023 season\n",
      "Calculating batting stats for all players\n",
      "Calculating pitching stats for all players\n",
      "Saved batting stats to data/processed/batting_stats_2023.csv\n",
      "Saved pitching stats to data/processed/pitching_stats_2023.csv\n"
     ]
    },
    {
     "name": "stderr",
     "output_type": "stream",
     "text": [
      "\n"
     ]
    }
   ],
   "source": [
    "# Define the years to process\n",
    "start_year = 2014\n",
    "end_year = 2023\n",
    "\n",
    "# Process the data\n",
    "# Uncomment the following line to run the data processing\n",
    "batting_stats, pitching_stats = process_multiple_seasons(start_year, end_year, 'data/raw', 'data/processed')"
   ]
  },
  {
   "cell_type": "markdown",
   "metadata": {},
   "source": [
    "## 2. Load Processed Data\n",
    "\n",
    "If you've already processed the data, you can load it directly from the CSV files."
   ]
  },
  {
   "cell_type": "code",
   "execution_count": 19,
   "metadata": {},
   "outputs": [
    {
     "name": "stdout",
     "output_type": "stream",
     "text": [
      "Loaded batting statistics: (30, 18)\n"
     ]
    }
   ],
   "source": [
    "# Load batting statistics\n",
    "batting_file = './data/processed/batting_stats_all.csv'\n",
    "if os.path.exists(batting_file):\n",
    "    batting_stats = pd.read_csv(batting_file)\n",
    "    print(f\"Loaded batting statistics: {batting_stats.shape}\")\n",
    "    batting_stats.head()\n",
    "else:\n",
    "    print(f\"Batting statistics file not found: {batting_file}\")"
   ]
  },
  {
   "cell_type": "code",
   "execution_count": 20,
   "metadata": {},
   "outputs": [
    {
     "name": "stdout",
     "output_type": "stream",
     "text": [
      "Loaded pitching statistics: (30, 18)\n"
     ]
    }
   ],
   "source": [
    "# Load pitching statistics\n",
    "pitching_file = './data/processed/pitching_stats_all.csv'\n",
    "if os.path.exists(pitching_file):\n",
    "    pitching_stats = pd.read_csv(pitching_file)\n",
    "    print(f\"Loaded pitching statistics: {pitching_stats.shape}\")\n",
    "    pitching_stats.head()\n",
    "else:\n",
    "    print(f\"Pitching statistics file not found: {pitching_file}\")"
   ]
  },
  {
   "cell_type": "markdown",
   "metadata": {},
   "source": [
    "## 3. Statistical Analysis\n",
    "\n",
    "Now let's analyze the player statistics to identify trends and patterns."
   ]
  },
  {
   "cell_type": "code",
   "execution_count": 6,
   "metadata": {},
   "outputs": [
    {
     "name": "stdout",
     "output_type": "stream",
     "text": [
      "Loading batting data from ./data/processed/batting_stats_all.csv\n",
      "Loading pitching data from ./data/processed/pitching_stats_all.csv\n",
      "Loaded 30 batting records and 30 pitching records\n"
     ]
    }
   ],
   "source": [
    "# Initialize the analyzer\n",
    "analyzer = StatsAnalyzer()\n",
    "\n",
    "# Load data\n",
    "analyzer.load_data(batting_file, pitching_file)"
   ]
  },
  {
   "cell_type": "code",
   "execution_count": 7,
   "metadata": {},
   "outputs": [
    {
     "data": {
      "image/png": "[encoded data removed]",
      "text/plain": [
       "<Figure size 1000x800 with 2 Axes>"
      ]
     },
     "metadata": {},
     "output_type": "display_data"
    }
   ],
   "source": [
    "# Analyze batting correlations\n",
    "batting_corr = analyzer.analyze_batting_correlations()\n",
    "plt.figure(figsize=(10, 8))\n",
    "sns.heatmap(batting_corr, annot=True, cmap='coolwarm', vmin=-1, vmax=1, center=0)\n",
    "plt.title(\"Batting Category Correlations\")\n",
    "plt.tight_layout()"
   ]
  },
  {
   "cell_type": "code",
   "execution_count": 21,
   "metadata": {},
   "outputs": [
    {
     "ename": "KeyError",
     "evalue": "\"['K'] not in index\"",
     "output_type": "error",
     "traceback": [
      "\u001b[0;31m---------------------------------------------------------------------------\u001b[0m",
      "\u001b[0;31mKeyError\u001b[0m                                  Traceback (most recent call last)",
      "Cell \u001b[0;32mIn[21], line 2\u001b[0m\n\u001b[1;32m      1\u001b[0m \u001b[38;5;66;03m# Analyze pitching correlations\u001b[39;00m\n\u001b[0;32m----> 2\u001b[0m pitching_corr \u001b[38;5;241m=\u001b[39m \u001b[43manalyzer\u001b[49m\u001b[38;5;241;43m.\u001b[39;49m\u001b[43manalyze_pitching_correlations\u001b[49m\u001b[43m(\u001b[49m\u001b[43m)\u001b[49m\n\u001b[1;32m      3\u001b[0m plt\u001b[38;5;241m.\u001b[39mfigure(figsize\u001b[38;5;241m=\u001b[39m(\u001b[38;5;241m10\u001b[39m, \u001b[38;5;241m8\u001b[39m))\n\u001b[1;32m      4\u001b[0m sns\u001b[38;5;241m.\u001b[39mheatmap(pitching_corr, annot\u001b[38;5;241m=\u001b[39m\u001b[38;5;28;01mTrue\u001b[39;00m, cmap\u001b[38;5;241m=\u001b[39m\u001b[38;5;124m'\u001b[39m\u001b[38;5;124mcoolwarm\u001b[39m\u001b[38;5;124m'\u001b[39m, vmin\u001b[38;5;241m=\u001b[39m\u001b[38;5;241m-\u001b[39m\u001b[38;5;241m1\u001b[39m, vmax\u001b[38;5;241m=\u001b[39m\u001b[38;5;241m1\u001b[39m, center\u001b[38;5;241m=\u001b[39m\u001b[38;5;241m0\u001b[39m)\n",
      "File \u001b[0;32m~/workplace/ai-baseball/src/analysis/stats_analyzer.py:108\u001b[0m, in \u001b[0;36mStatsAnalyzer.analyze_pitching_correlations\u001b[0;34m(self)\u001b[0m\n\u001b[1;32m    105\u001b[0m \u001b[38;5;28;01mif\u001b[39;00m \u001b[38;5;124m'\u001b[39m\u001b[38;5;124mW+QS\u001b[39m\u001b[38;5;124m'\u001b[39m \u001b[38;5;129;01mnot\u001b[39;00m \u001b[38;5;129;01min\u001b[39;00m pitching_data\u001b[38;5;241m.\u001b[39mcolumns \u001b[38;5;129;01mand\u001b[39;00m \u001b[38;5;124m'\u001b[39m\u001b[38;5;124mW\u001b[39m\u001b[38;5;124m'\u001b[39m \u001b[38;5;129;01min\u001b[39;00m pitching_data\u001b[38;5;241m.\u001b[39mcolumns \u001b[38;5;129;01mand\u001b[39;00m \u001b[38;5;124m'\u001b[39m\u001b[38;5;124mQS\u001b[39m\u001b[38;5;124m'\u001b[39m \u001b[38;5;129;01min\u001b[39;00m pitching_data\u001b[38;5;241m.\u001b[39mcolumns:\n\u001b[1;32m    106\u001b[0m     pitching_data[\u001b[38;5;124m'\u001b[39m\u001b[38;5;124mW+QS\u001b[39m\u001b[38;5;124m'\u001b[39m] \u001b[38;5;241m=\u001b[39m pitching_data[\u001b[38;5;124m'\u001b[39m\u001b[38;5;124mW\u001b[39m\u001b[38;5;124m'\u001b[39m] \u001b[38;5;241m+\u001b[39m pitching_data[\u001b[38;5;124m'\u001b[39m\u001b[38;5;124mQS\u001b[39m\u001b[38;5;124m'\u001b[39m]\n\u001b[0;32m--> 108\u001b[0m \u001b[38;5;28;01mreturn\u001b[39;00m \u001b[38;5;28;43mself\u001b[39;49m\u001b[38;5;241;43m.\u001b[39;49m\u001b[43mcalculate_category_correlations\u001b[49m\u001b[43m(\u001b[49m\u001b[43mpitching_data\u001b[49m\u001b[43m,\u001b[49m\u001b[43m \u001b[49m\u001b[38;5;28;43mself\u001b[39;49m\u001b[38;5;241;43m.\u001b[39;49m\u001b[43mpitching_categories\u001b[49m\u001b[43m)\u001b[49m\n",
      "File \u001b[0;32m~/workplace/ai-baseball/src/analysis/stats_analyzer.py:65\u001b[0m, in \u001b[0;36mStatsAnalyzer.calculate_category_correlations\u001b[0;34m(self, data, categories)\u001b[0m\n\u001b[1;32m     54\u001b[0m \u001b[38;5;250m\u001b[39m\u001b[38;5;124;03m\"\"\"\u001b[39;00m\n\u001b[1;32m     55\u001b[0m \u001b[38;5;124;03mCalculate correlations between statistical categories.\u001b[39;00m\n\u001b[1;32m     56\u001b[0m \u001b[38;5;124;03m\u001b[39;00m\n\u001b[0;32m   (...)\u001b[0m\n\u001b[1;32m     62\u001b[0m \u001b[38;5;124;03m    pd.DataFrame: Correlation matrix\u001b[39;00m\n\u001b[1;32m     63\u001b[0m \u001b[38;5;124;03m\"\"\"\u001b[39;00m\n\u001b[1;32m     64\u001b[0m \u001b[38;5;66;03m# Filter to only include the categories of interest\u001b[39;00m\n\u001b[0;32m---> 65\u001b[0m category_data \u001b[38;5;241m=\u001b[39m \u001b[43mdata\u001b[49m\u001b[43m[\u001b[49m\u001b[43mcategories\u001b[49m\u001b[43m]\u001b[49m\u001b[38;5;241m.\u001b[39mcopy()\n\u001b[1;32m     67\u001b[0m \u001b[38;5;66;03m# Calculate correlation matrix\u001b[39;00m\n\u001b[1;32m     68\u001b[0m corr_matrix \u001b[38;5;241m=\u001b[39m category_data\u001b[38;5;241m.\u001b[39mcorr()\n",
      "File \u001b[0;32m~/workplace/ai-baseball/.venv/lib/python3.9/site-packages/pandas/core/frame.py:4108\u001b[0m, in \u001b[0;36mDataFrame.__getitem__\u001b[0;34m(self, key)\u001b[0m\n\u001b[1;32m   4106\u001b[0m     \u001b[38;5;28;01mif\u001b[39;00m is_iterator(key):\n\u001b[1;32m   4107\u001b[0m         key \u001b[38;5;241m=\u001b[39m \u001b[38;5;28mlist\u001b[39m(key)\n\u001b[0;32m-> 4108\u001b[0m     indexer \u001b[38;5;241m=\u001b[39m \u001b[38;5;28;43mself\u001b[39;49m\u001b[38;5;241;43m.\u001b[39;49m\u001b[43mcolumns\u001b[49m\u001b[38;5;241;43m.\u001b[39;49m\u001b[43m_get_indexer_strict\u001b[49m\u001b[43m(\u001b[49m\u001b[43mkey\u001b[49m\u001b[43m,\u001b[49m\u001b[43m \u001b[49m\u001b[38;5;124;43m\"\u001b[39;49m\u001b[38;5;124;43mcolumns\u001b[39;49m\u001b[38;5;124;43m\"\u001b[39;49m\u001b[43m)\u001b[49m[\u001b[38;5;241m1\u001b[39m]\n\u001b[1;32m   4110\u001b[0m \u001b[38;5;66;03m# take() does not accept boolean indexers\u001b[39;00m\n\u001b[1;32m   4111\u001b[0m \u001b[38;5;28;01mif\u001b[39;00m \u001b[38;5;28mgetattr\u001b[39m(indexer, \u001b[38;5;124m\"\u001b[39m\u001b[38;5;124mdtype\u001b[39m\u001b[38;5;124m\"\u001b[39m, \u001b[38;5;28;01mNone\u001b[39;00m) \u001b[38;5;241m==\u001b[39m \u001b[38;5;28mbool\u001b[39m:\n",
      "File \u001b[0;32m~/workplace/ai-baseball/.venv/lib/python3.9/site-packages/pandas/core/indexes/base.py:6200\u001b[0m, in \u001b[0;36mIndex._get_indexer_strict\u001b[0;34m(self, key, axis_name)\u001b[0m\n\u001b[1;32m   6197\u001b[0m \u001b[38;5;28;01melse\u001b[39;00m:\n\u001b[1;32m   6198\u001b[0m     keyarr, indexer, new_indexer \u001b[38;5;241m=\u001b[39m \u001b[38;5;28mself\u001b[39m\u001b[38;5;241m.\u001b[39m_reindex_non_unique(keyarr)\n\u001b[0;32m-> 6200\u001b[0m \u001b[38;5;28;43mself\u001b[39;49m\u001b[38;5;241;43m.\u001b[39;49m\u001b[43m_raise_if_missing\u001b[49m\u001b[43m(\u001b[49m\u001b[43mkeyarr\u001b[49m\u001b[43m,\u001b[49m\u001b[43m \u001b[49m\u001b[43mindexer\u001b[49m\u001b[43m,\u001b[49m\u001b[43m \u001b[49m\u001b[43maxis_name\u001b[49m\u001b[43m)\u001b[49m\n\u001b[1;32m   6202\u001b[0m keyarr \u001b[38;5;241m=\u001b[39m \u001b[38;5;28mself\u001b[39m\u001b[38;5;241m.\u001b[39mtake(indexer)\n\u001b[1;32m   6203\u001b[0m \u001b[38;5;28;01mif\u001b[39;00m \u001b[38;5;28misinstance\u001b[39m(key, Index):\n\u001b[1;32m   6204\u001b[0m     \u001b[38;5;66;03m# GH 42790 - Preserve name from an Index\u001b[39;00m\n",
      "File \u001b[0;32m~/workplace/ai-baseball/.venv/lib/python3.9/site-packages/pandas/core/indexes/base.py:6252\u001b[0m, in \u001b[0;36mIndex._raise_if_missing\u001b[0;34m(self, key, indexer, axis_name)\u001b[0m\n\u001b[1;32m   6249\u001b[0m     \u001b[38;5;28;01mraise\u001b[39;00m \u001b[38;5;167;01mKeyError\u001b[39;00m(\u001b[38;5;124mf\u001b[39m\u001b[38;5;124m\"\u001b[39m\u001b[38;5;124mNone of [\u001b[39m\u001b[38;5;132;01m{\u001b[39;00mkey\u001b[38;5;132;01m}\u001b[39;00m\u001b[38;5;124m] are in the [\u001b[39m\u001b[38;5;132;01m{\u001b[39;00maxis_name\u001b[38;5;132;01m}\u001b[39;00m\u001b[38;5;124m]\u001b[39m\u001b[38;5;124m\"\u001b[39m)\n\u001b[1;32m   6251\u001b[0m not_found \u001b[38;5;241m=\u001b[39m \u001b[38;5;28mlist\u001b[39m(ensure_index(key)[missing_mask\u001b[38;5;241m.\u001b[39mnonzero()[\u001b[38;5;241m0\u001b[39m]]\u001b[38;5;241m.\u001b[39munique())\n\u001b[0;32m-> 6252\u001b[0m \u001b[38;5;28;01mraise\u001b[39;00m \u001b[38;5;167;01mKeyError\u001b[39;00m(\u001b[38;5;124mf\u001b[39m\u001b[38;5;124m\"\u001b[39m\u001b[38;5;132;01m{\u001b[39;00mnot_found\u001b[38;5;132;01m}\u001b[39;00m\u001b[38;5;124m not in index\u001b[39m\u001b[38;5;124m\"\u001b[39m)\n",
      "\u001b[0;31mKeyError\u001b[0m: \"['K'] not in index\""
     ]
    }
   ],
   "source": [
    "# Analyze pitching correlations\n",
    "pitching_corr = analyzer.analyze_pitching_correlations()\n",
    "plt.figure(figsize=(10, 8))\n",
    "sns.heatmap(pitching_corr, annot=True, cmap='coolwarm', vmin=-1, vmax=1, center=0)\n",
    "plt.title(\"Pitching Category Correlations\")\n",
    "plt.tight_layout()"
   ]
  },
  {
   "cell_type": "code",
   "execution_count": null,
   "metadata": {},
   "outputs": [],
   "source": [
    "# Analyze batting consistency\n",
    "batting_consistency = analyzer.analyze_batting_consistency()\n",
    "batting_consistency.head()"
   ]
  },
  {
   "cell_type": "code",
   "execution_count": null,
   "metadata": {},
   "outputs": [],
   "source": [
    "# Analyze pitching consistency\n",
    "pitching_consistency = analyzer.analyze_pitching_consistency()\n",
    "pitching_consistency.head()"
   ]
  },
  {
   "cell_type": "code",
   "execution_count": null,
   "metadata": {},
   "outputs": [],
   "source": [
    "# Analyze category scarcity\n",
    "batting_scarcity = analyzer.analyze_batting_scarcity()\n",
    "batting_scarcity"
   ]
  },
  {
   "cell_type": "code",
   "execution_count": null,
   "metadata": {},
   "outputs": [],
   "source": [
    "# Analyze pitching scarcity\n",
    "pitching_scarcity = analyzer.analyze_pitching_scarcity()\n",
    "pitching_scarcity"
   ]
  },
  {
   "cell_type": "markdown",
   "metadata": {},
   "source": [
    "## 4. Player Forecasting\n",
    "\n",
    "Now let's generate forecasts for the upcoming season."
   ]
  },
  {
   "cell_type": "code",
   "execution_count": null,
   "metadata": {},
   "outputs": [],
   "source": [
    "# Initialize the forecaster\n",
    "forecaster = PlayerForecaster()\n",
    "\n",
    "# Load data\n",
    "forecaster.load_data(batting_file, pitching_file)"
   ]
  },
  {
   "cell_type": "code",
   "execution_count": null,
   "metadata": {},
   "outputs": [],
   "source": [
    "# Train batting models\n",
    "# Note: This can take a while to run\n",
    "# batting_models = forecaster.train_batting_models()"
   ]
  },
  {
   "cell_type": "code",
   "execution_count": null,
   "metadata": {},
   "outputs": [],
   "source": [
    "# Train pitching models\n",
    "# Note: This can take a while to run\n",
    "# pitching_models = forecaster.train_pitching_models()"
   ]
  },
  {
   "cell_type": "code",
   "execution_count": null,
   "metadata": {},
   "outputs": [],
   "source": [
    "# Generate forecasts\n",
    "# Note: This requires trained models\n",
    "# batting_forecasts, pitching_forecasts = forecaster.generate_all_forecasts('../data/projections')"
   ]
  },
  {
   "cell_type": "markdown",
   "metadata": {},
   "source": [
    "## 5. Load Forecasts\n",
    "\n",
    "If you've already generated forecasts, you can load them directly from the CSV files."
   ]
  },
  {
   "cell_type": "code",
   "execution_count": null,
   "metadata": {},
   "outputs": [],
   "source": [
    "# Load batting forecasts\n",
    "batting_forecasts_file = '../data/projections/batting_forecasts.csv'\n",
    "if os.path.exists(batting_forecasts_file):\n",
    "    batting_forecasts = pd.read_csv(batting_forecasts_file)\n",
    "    print(f\"Loaded batting forecasts: {batting_forecasts.shape}\")\n",
    "    batting_forecasts.head()\n",
    "else:\n",
    "    print(f\"Batting forecasts file not found: {batting_forecasts_file}\")"
   ]
  },
  {
   "cell_type": "code",
   "execution_count": null,
   "metadata": {},
   "outputs": [],
   "source": [
    "# Load pitching forecasts\n",
    "pitching_forecasts_file = '../data/projections/pitching_forecasts.csv'\n",
    "if os.path.exists(pitching_forecasts_file):\n",
    "    pitching_forecasts = pd.read_csv(pitching_forecasts_file)\n",
    "    print(f\"Loaded pitching forecasts: {pitching_forecasts.shape}\")\n",
    "    pitching_forecasts.head()\n",
    "else:\n",
    "    print(f\"Pitching forecasts file not found: {pitching_forecasts_file}\")"
   ]
  },
  {
   "cell_type": "markdown",
   "metadata": {},
   "source": [
    "## 6. Player Ranking\n",
    "\n",
    "Now let's rank players based on their projected fantasy value."
   ]
  },
  {
   "cell_type": "code",
   "execution_count": null,
   "metadata": {},
   "outputs": [],
   "source": [
    "# Initialize the ranker\n",
    "ranker = PlayerRanker()\n",
    "\n",
    "# Load projections\n",
    "ranker.load_projections(batting_forecasts_file, pitching_forecasts_file)"
   ]
  },
  {
   "cell_type": "code",
   "execution_count": null,
   "metadata": {},
   "outputs": [],
   "source": [
    "# Rank batters\n",
    "batting_rankings = ranker.rank_batters()\n",
    "batting_rankings.head(10)"
   ]
  },
  {
   "cell_type": "code",
   "execution_count": null,
   "metadata": {},
   "outputs": [],
   "source": [
    "# Rank pitchers\n",
    "pitching_rankings = ranker.rank_pitchers()\n",
    "pitching_rankings.head(10)"
   ]
  },
  {
   "cell_type": "code",
   "execution_count": null,
   "metadata": {},
   "outputs": [],
   "source": [
    "# Create overall rankings\n",
    "overall_rankings = ranker.create_overall_rankings()\n",
    "overall_rankings.head(10)"
   ]
  },
  {
   "cell_type": "code",
   "execution_count": null,
   "metadata": {},
   "outputs": [],
   "source": [
    "# Plot value distribution\n",
    "value_plot = ranker.plot_value_distribution(n=50)\n",
    "plt.title(\"Value Distribution of Top 50 Players\")\n",
    "plt.tight_layout()"
   ]
  },
  {
   "cell_type": "markdown",
   "metadata": {},
   "source": [
    "## 7. Save Rankings\n",
    "\n",
    "Finally, let's save the rankings to CSV files."
   ]
  },
  {
   "cell_type": "code",
   "execution_count": null,
   "metadata": {},
   "outputs": [],
   "source": [
    "# Save rankings\n",
    "ranker.save_rankings('../data/rankings')"
   ]
  },
  {
   "cell_type": "markdown",
   "metadata": {},
   "source": [
    "## Conclusion\n",
    "\n",
    "In this notebook, we've demonstrated how to use the Fantasy Baseball Draft Tool to:\n",
    "\n",
    "1. Process Retrosheet data into player statistics\n",
    "2. Analyze player statistics to identify trends and patterns\n",
    "3. Generate forecasts for the upcoming season\n",
    "4. Rank players based on their projected fantasy value\n",
    "\n",
    "You can now use the rankings to help you make informed decisions during your fantasy baseball draft."
   ]
  }
 ],
 "metadata": {
  "kernelspec": {
   "display_name": ".venv",
   "language": "python",
   "name": "python3"
  },
  "language_info": {
   "codemirror_mode": {
    "name": "ipython",
    "version": 3
   },
   "file_extension": ".py",
   "mimetype": "text/x-python",
   "name": "python",
   "nbconvert_exporter": "python",
   "pygments_lexer": "ipython3",
   "version": "3.9.6"
  }
 },
 "nbformat": 4,
 "nbformat_minor": 4
}
